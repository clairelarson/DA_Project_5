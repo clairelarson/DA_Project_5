{
 "cells": [
  {
   "cell_type": "markdown",
   "id": "42033797",
   "metadata": {},
   "source": [
    "Imports, read csv files"
   ]
  },
  {
   "cell_type": "code",
   "execution_count": 1,
   "id": "16a4fd2a",
   "metadata": {},
   "outputs": [],
   "source": [
    "import pandas as pd\n",
    "in_outcomes = pd.read_csv('aac_intakes_outcomes.csv')"
   ]
  },
  {
   "cell_type": "markdown",
   "id": "b5e784c3",
   "metadata": {},
   "source": [
    "Clean Data & delete unnecessary columns"
   ]
  },
  {
   "cell_type": "code",
   "execution_count": 2,
   "id": "67717e63",
   "metadata": {},
   "outputs": [],
   "source": [
    "in_outcomes['outcome_datetime'] = pd.to_datetime(in_outcomes['outcome_datetime'])\n",
    "in_outcomes['intake_datetime'] = pd.to_datetime(in_outcomes['intake_datetime'])\n",
    "in_outcomes['date_of_birth'] = pd.to_datetime(in_outcomes['date_of_birth'])"
   ]
  },
  {
   "cell_type": "code",
   "execution_count": 3,
   "id": "279b416f",
   "metadata": {},
   "outputs": [],
   "source": [
    "in_outcomes.drop('age_upon_outcome', inplace=True, axis=1)\n",
    "in_outcomes.drop('age_upon_intake', inplace=True, axis=1)\n",
    "in_outcomes.drop('animal_id_intake', inplace=True, axis=1)"
   ]
  },
  {
   "cell_type": "code",
   "execution_count": 4,
   "id": "a8e8a9f6",
   "metadata": {},
   "outputs": [],
   "source": [
    "in_outcomes.rename(columns = {'animal_id_outcome':'animal_id'}, inplace = True)"
   ]
  },
  {
   "cell_type": "markdown",
   "id": "66d310c2",
   "metadata": {},
   "source": [
    "Run head and info to look at dataset"
   ]
  },
  {
   "cell_type": "code",
   "execution_count": 5,
   "id": "9f1918a3",
   "metadata": {
    "scrolled": true
   },
   "outputs": [
    {
     "name": "stdout",
     "output_type": "stream",
     "text": [
      "<class 'pandas.core.frame.DataFrame'>\n",
      "RangeIndex: 79672 entries, 0 to 79671\n",
      "Data columns (total 38 columns):\n",
      " #   Column                      Non-Null Count  Dtype         \n",
      "---  ------                      --------------  -----         \n",
      " 0   animal_id                   79672 non-null  object        \n",
      " 1   date_of_birth               79672 non-null  datetime64[ns]\n",
      " 2   outcome_subtype             36348 non-null  object        \n",
      " 3   outcome_type                79662 non-null  object        \n",
      " 4   sex_upon_outcome            79671 non-null  object        \n",
      " 5   age_upon_outcome_(days)     79672 non-null  int64         \n",
      " 6   age_upon_outcome_(years)    79672 non-null  float64       \n",
      " 7   age_upon_outcome_age_group  79672 non-null  object        \n",
      " 8   outcome_datetime            79672 non-null  datetime64[ns]\n",
      " 9   outcome_month               79672 non-null  int64         \n",
      " 10  outcome_year                79672 non-null  int64         \n",
      " 11  outcome_monthyear           79672 non-null  object        \n",
      " 12  outcome_weekday             79672 non-null  object        \n",
      " 13  outcome_hour                79672 non-null  int64         \n",
      " 14  outcome_number              79672 non-null  float64       \n",
      " 15  dob_year                    79672 non-null  int64         \n",
      " 16  dob_month                   79672 non-null  int64         \n",
      " 17  dob_monthyear               79672 non-null  object        \n",
      " 18  animal_type                 79672 non-null  object        \n",
      " 19  breed                       79672 non-null  object        \n",
      " 20  color                       79672 non-null  object        \n",
      " 21  found_location              79672 non-null  object        \n",
      " 22  intake_condition            79672 non-null  object        \n",
      " 23  intake_type                 79672 non-null  object        \n",
      " 24  sex_upon_intake             79671 non-null  object        \n",
      " 25  count                       79672 non-null  int64         \n",
      " 26  age_upon_intake_(days)      79672 non-null  int64         \n",
      " 27  age_upon_intake_(years)     79672 non-null  float64       \n",
      " 28  age_upon_intake_age_group   79672 non-null  object        \n",
      " 29  intake_datetime             79672 non-null  datetime64[ns]\n",
      " 30  intake_month                79672 non-null  int64         \n",
      " 31  intake_year                 79672 non-null  int64         \n",
      " 32  intake_monthyear            79672 non-null  object        \n",
      " 33  intake_weekday              79672 non-null  object        \n",
      " 34  intake_hour                 79672 non-null  int64         \n",
      " 35  intake_number               79672 non-null  float64       \n",
      " 36  time_in_shelter             79672 non-null  object        \n",
      " 37  time_in_shelter_days        79672 non-null  float64       \n",
      "dtypes: datetime64[ns](3), float64(5), int64(11), object(19)\n",
      "memory usage: 23.1+ MB\n"
     ]
    }
   ],
   "source": [
    "in_outcomes.head(1)\n",
    "in_outcomes.info()"
   ]
  },
  {
   "cell_type": "markdown",
   "id": "6075c8c2",
   "metadata": {},
   "source": [
    "# Questions and Answers:"
   ]
  },
  {
   "cell_type": "markdown",
   "id": "210c8ea5",
   "metadata": {},
   "source": [
    "## 1. Is there an area where more pets are found?\n",
    "\n",
    "Yes, pets are most often found in Austin, Outside the Jurisdiction, Travis, 7201 Levander Loop in Austin, and Del Valle. This was found by finding the value counts of all the locations, and printing the top 5 results."
   ]
  },
  {
   "cell_type": "code",
   "execution_count": 6,
   "id": "1205ab58",
   "metadata": {},
   "outputs": [
    {
     "data": {
      "text/plain": [
       "Austin (TX)                          14311\n",
       "Outside Jurisdiction                   945\n",
       "Travis (TX)                            907\n",
       "7201 Levander Loop in Austin (TX)      514\n",
       "Del Valle (TX)                         407\n",
       "Name: found_location, dtype: int64"
      ]
     },
     "execution_count": 6,
     "metadata": {},
     "output_type": "execute_result"
    }
   ],
   "source": [
    "all_locations = in_outcomes['found_location']\n",
    "top_five = all_locations.value_counts()[:5]\n",
    "top_five"
   ]
  },
  {
   "cell_type": "markdown",
   "id": "008d1d09",
   "metadata": {},
   "source": [
    "## 2. What is the average number of pets found in a month in the year 2015? Are there months where there is a higher number of animals found?\n",
    "The average number of pets found in a month in 2015 was 1558.25 animals. The months with the highest number of animals would be June, May, and October. This was found by finding all the animals from 2015 and averaging them. Then each individual month was averaged to find months with higher intakes of animals. "
   ]
  },
  {
   "cell_type": "code",
   "execution_count": 7,
   "id": "477fe77d",
   "metadata": {},
   "outputs": [
    {
     "name": "stdout",
     "output_type": "stream",
     "text": [
      "1558.25\n"
     ]
    },
    {
     "data": {
      "text/plain": [
       "6     182.333333\n",
       "5     174.333333\n",
       "10    144.833333\n",
       "8     143.083333\n",
       "7     136.166667\n",
       "9     132.500000\n",
       "4     128.250000\n",
       "11    117.416667\n",
       "3     112.083333\n",
       "1      99.916667\n",
       "12     94.000000\n",
       "2      93.333333\n",
       "Name: intake_month, dtype: float64"
      ]
     },
     "execution_count": 7,
     "metadata": {},
     "output_type": "execute_result"
    }
   ],
   "source": [
    "pets_2015 = in_outcomes[in_outcomes['intake_year'] == 2015]\n",
    "month_2015 = pets_2015['intake_month'].value_counts()\n",
    "month_2015.sum()\n",
    "total_avg = (month_2015.sum()) /12\n",
    "print(total_avg)\n",
    "monthly_avg = month_2015/12\n",
    "monthly_avg.sort_values(ascending=False)"
   ]
  },
  {
   "cell_type": "markdown",
   "id": "d4f27b82",
   "metadata": {},
   "source": [
    "## 3. What is the ratio of incoming pets vs. adopted pets?\n",
    "The ratio of incoming to adopted pets is 2.344. This was found by finding the number of incoming pets and dividing by the number of apopted pets. "
   ]
  },
  {
   "cell_type": "code",
   "execution_count": 28,
   "id": "07510e90",
   "metadata": {},
   "outputs": [
    {
     "name": "stdout",
     "output_type": "stream",
     "text": [
      "['A200922' 'A210457' 'A226069' ... 'A769034' 'A769036' 'A769044']\n"
     ]
    },
    {
     "data": {
      "text/plain": [
       "2.344159228614242"
      ]
     },
     "execution_count": 28,
     "metadata": {},
     "output_type": "execute_result"
    }
   ],
   "source": [
    "adopted = in_outcomes[in_outcomes['outcome_type'] == 'Adoption']\n",
    "adopted = adopted['animal_id'].unique()\n",
    "print(adopted)\n",
    "total_incomes = in_outcomes['animal_id'].unique()\n",
    "ratio = len(total_incomes)/len(adopted)\n",
    "ratio"
   ]
  },
  {
   "cell_type": "markdown",
   "id": "0aab56fb",
   "metadata": {},
   "source": [
    "## 4. What is the distribution of the types of animals in the shelter?\n",
    "The shelter had dogs, cats, other animals, and birds. This was found by looking at the value counts of the animal types."
   ]
  },
  {
   "cell_type": "code",
   "execution_count": 33,
   "id": "9e015a18",
   "metadata": {},
   "outputs": [
    {
     "data": {
      "text/plain": [
       "Dog      45366\n",
       "Cat      29539\n",
       "Other     4428\n",
       "Bird       339\n",
       "Name: animal_type, dtype: int64"
      ]
     },
     "execution_count": 33,
     "metadata": {},
     "output_type": "execute_result"
    }
   ],
   "source": [
    "animal_types = in_outcomes['animal_type'].value_counts()\n",
    "animal_types"
   ]
  },
  {
   "cell_type": "markdown",
   "id": "ee1ec9ab",
   "metadata": {},
   "source": [
    "## 5. What are the adoption rates for specific breeds?\n",
    "The top breeds of the shelter were: Pit Bull Mix, Chihuahua Shorthair Mix, Labrador Retriever Mix, German Shepherd Mix, and Australian Cattle Dog Mix. In order, the breeds have a 37.1%, 47%, 49.4%, 47.3%, and 55.2% adoption rate. This was found by dividing the total number of that breed by the total number adopted from that breed. "
   ]
  },
  {
   "cell_type": "code",
   "execution_count": null,
   "id": "090ea43f",
   "metadata": {},
   "outputs": [],
   "source": []
  },
  {
   "cell_type": "code",
   "execution_count": 67,
   "id": "130c04e2",
   "metadata": {},
   "outputs": [
    {
     "data": {
      "text/plain": [
       "Pit Bull Mix                 6256\n",
       "Chihuahua Shorthair Mix      4831\n",
       "Labrador Retriever Mix       4789\n",
       "German Shepherd Mix          1950\n",
       "Australian Cattle Dog Mix    1099\n",
       "Name: breed, dtype: int64"
      ]
     },
     "execution_count": 67,
     "metadata": {},
     "output_type": "execute_result"
    }
   ],
   "source": [
    "dogs = in_outcomes[in_outcomes['animal_type'] == 'Dog']\n",
    "top_dogs = dogs['breed'].value_counts()[:5]\n",
    "top_dogs"
   ]
  },
  {
   "cell_type": "code",
   "execution_count": 59,
   "id": "a540b406",
   "metadata": {},
   "outputs": [],
   "source": [
    "pit_adopt = dogs[(dogs['breed'] == 'Pit Bull Mix') & (dogs['outcome_type'] == 'Adoption')]\n",
    "chihuahua_adopt = dogs[(dogs['breed'] == 'Chihuahua Shorthair Mix') & (dogs['outcome_type'] == 'Adoption')]\n",
    "lab_adopt = dogs[(dogs['breed'] == 'Labrador Retriever Mix') & (dogs['outcome_type'] == 'Adoption')]\n",
    "gershep_adopt = dogs[(dogs['breed'] == 'German Shepherd Mix') & (dogs['outcome_type'] == 'Adoption')]\n",
    "aust_adopt = dogs[(dogs['breed'] == 'Australian Cattle Dog Mix') & (dogs['outcome_type'] == 'Adoption')]\n",
    "\n",
    "pit = dogs[dogs['breed'] == 'Pit Bull Mix']\n",
    "chihuahua = dogs[dogs['breed'] == 'Chihuahua Shorthair Mix']\n",
    "lab = dogs[dogs['breed'] == 'Labrador Retriever Mix']\n",
    "gershep = dogs[dogs['breed'] == 'German Shepherd Mix']\n",
    "aust = dogs[dogs['breed'] == 'Australian Cattle Dog Mix']"
   ]
  },
  {
   "cell_type": "code",
   "execution_count": 62,
   "id": "6e584941",
   "metadata": {},
   "outputs": [],
   "source": [
    "pitbull_percent = len(pit_adopt)/len(pit)\n",
    "chihuahua_percent = len(chihuahua_adopt)/len(chihuahua)\n",
    "lab_percent = len(lab_adopt)/len(lab)\n",
    "gershep_percent = len(gershep_adopt)/len(gershep)\n",
    "aust_percent = len(aust_adopt)/len(aust)"
   ]
  },
  {
   "cell_type": "code",
   "execution_count": 63,
   "id": "ec233d1a",
   "metadata": {},
   "outputs": [
    {
     "name": "stdout",
     "output_type": "stream",
     "text": [
      "0.37148337595907927\n",
      "0.4698820120057959\n",
      "0.49446648569638757\n",
      "0.4728205128205128\n",
      "0.5523202911737943\n"
     ]
    }
   ],
   "source": [
    "print(pitbull_percent)\n",
    "print(chihuahua_percent)\n",
    "print(lab_percent)\n",
    "print(gershep_percent)\n",
    "print(aust_percent)"
   ]
  },
  {
   "cell_type": "markdown",
   "id": "5ba9448a",
   "metadata": {},
   "source": [
    "## 6. What are the adoption rates for different colorings?\n",
    "The top 5 colors in the shelter were Black/White, Black, Brown Tabby, Brown, and White. Their adoption rates were, in order, 45.2%, 40.3%, 41.8%, 22.1%, and 37.6%. This was found by dividing the colored animals by their adoption rates."
   ]
  },
  {
   "cell_type": "code",
   "execution_count": 65,
   "id": "f9c3313c",
   "metadata": {},
   "outputs": [
    {
     "data": {
      "text/plain": [
       "Black/White    8270\n",
       "Black          6673\n",
       "Brown Tabby    4471\n",
       "Brown          3598\n",
       "White          2835\n",
       "Name: color, dtype: int64"
      ]
     },
     "execution_count": 65,
     "metadata": {},
     "output_type": "execute_result"
    }
   ],
   "source": [
    "top_colors = in_outcomes['color'].value_counts()[:5]\n",
    "top_colors"
   ]
  },
  {
   "cell_type": "code",
   "execution_count": 106,
   "id": "f49e106d",
   "metadata": {},
   "outputs": [],
   "source": [
    "black_white_adopt = in_outcomes[(in_outcomes['color'] == 'Black/White') & (in_outcomes['outcome_type'] == 'Adoption')]\n",
    "black_adopt = in_outcomes[(in_outcomes['color'] == 'Black') & (in_outcomes['outcome_type'] == 'Adoption')]\n",
    "brown_tabby_adopt = in_outcomes[(in_outcomes['color'] == 'Brown Tabby') & (in_outcomes['outcome_type'] == 'Adoption')]\n",
    "brown_adopt = in_outcomes[(in_outcomes['color'] == 'Brown') & (in_outcomes['outcome_type'] == 'Adoption')]\n",
    "white_adopt = in_outcomes[(in_outcomes['color'] == 'White') & (in_outcomes['outcome_type'] == 'Adoption')]\n",
    "\n",
    "black_white = in_outcomes[in_outcomes['color'] == 'Black/White']\n",
    "black = in_outcomes[in_outcomes['color'] == 'Black']\n",
    "brown_tabby = in_outcomes[in_outcomes['color'] == 'Brown Tabby']\n",
    "brown = in_outcomes[in_outcomes['color'] == 'Brown']\n",
    "white = in_outcomes[in_outcomes['color'] == 'White']"
   ]
  },
  {
   "cell_type": "code",
   "execution_count": 107,
   "id": "ac57f03f",
   "metadata": {},
   "outputs": [],
   "source": [
    "black_white_percent = len(black_white_adopt)/len(black_white)\n",
    "black_percent = len(black_adopt)/len(black)\n",
    "brown_tabby_percent = len(brown_tabby_adopt)/len(brown_tabby)\n",
    "brown_percent = len(brown_adopt)/len(brown)\n",
    "white_percent = len(white_adopt)/len(white)"
   ]
  },
  {
   "cell_type": "code",
   "execution_count": 108,
   "id": "5c4e05b0",
   "metadata": {},
   "outputs": [
    {
     "name": "stdout",
     "output_type": "stream",
     "text": [
      "0.4519951632406288\n",
      "0.40341675408362054\n",
      "0.4184746141802729\n",
      "0.2206781545302946\n",
      "0.37566137566137564\n"
     ]
    }
   ],
   "source": [
    "print(black_white_percent)\n",
    "print(black_percent)\n",
    "print(brown_tabby_percent)\n",
    "print(brown_percent)\n",
    "print(white_percent)"
   ]
  },
  {
   "cell_type": "markdown",
   "id": "3635f860",
   "metadata": {},
   "source": [
    "## 7. About how many animals are spayed/neutered each month?\n",
    "About 2499 animals are spayed or neutered each month. This was found by finding animals that were unspayed on intake and spayed on outtake and then dividing that number by 12 to find the average. "
   ]
  },
  {
   "cell_type": "code",
   "execution_count": 75,
   "id": "641b20bc",
   "metadata": {},
   "outputs": [
    {
     "data": {
      "text/plain": [
       "2498.6666666666665"
      ]
     },
     "execution_count": 75,
     "metadata": {},
     "output_type": "execute_result"
    }
   ],
   "source": [
    "sp_ne = in_outcomes[((in_outcomes['sex_upon_intake'] == 'Intact Male') | (in_outcomes['sex_upon_intake'] == 'Intact Female')) & ((in_outcomes['sex_upon_outcome'] == 'Neutered Male') | (in_outcomes['sex_upon_outcome'] == 'Spayed Female'))]\n",
    "\n",
    "month_sp_ne = len(sp_ne)/12\n",
    "month_sp_ne"
   ]
  },
  {
   "cell_type": "code",
   "execution_count": null,
   "id": "013a08f0",
   "metadata": {},
   "outputs": [],
   "source": []
  },
  {
   "cell_type": "code",
   "execution_count": null,
   "id": "700c49d4",
   "metadata": {},
   "outputs": [],
   "source": []
  },
  {
   "cell_type": "markdown",
   "id": "c706f5d1",
   "metadata": {},
   "source": [
    "# Extra Credit:"
   ]
  },
  {
   "cell_type": "markdown",
   "id": "ba571c7c",
   "metadata": {},
   "source": [
    "## 1. How many animals in the shelter are repeats? Which animal was returned to the shelter the most?\n",
    "There were 71961 animals that were in the shelter more than once. The animal that was returned to the shelter the most was the animal with the ID A721033 who came to the shelter 13 times. this was found by looking at animal ideas that appeared more than once, then pulling the highest value count."
   ]
  },
  {
   "cell_type": "code",
   "execution_count": 128,
   "id": "b602fa1f",
   "metadata": {},
   "outputs": [],
   "source": [
    "repeats = in_outcomes['animal_id'].value_counts() > 1\n",
    "num_repeats = len(repeats==True)\n",
    "top_repeat = in_outcomes['animal_id'].value_counts()[:1]"
   ]
  },
  {
   "cell_type": "code",
   "execution_count": 129,
   "id": "ec1dedb9",
   "metadata": {},
   "outputs": [
    {
     "name": "stdout",
     "output_type": "stream",
     "text": [
      "71961\n",
      "A721033    13\n",
      "Name: animal_id, dtype: int64\n"
     ]
    }
   ],
   "source": [
    "print(num_repeats)\n",
    "print(top_repeat)"
   ]
  },
  {
   "cell_type": "markdown",
   "id": "d7a29280",
   "metadata": {},
   "source": [
    "## 2. What are the adoption rates for the following age groups?\n",
    "- baby - 51.2%\n",
    "- young - 44.2%\n",
    "- adult - 21%\n",
    "- senior - 37.6%\n",
    "This was found by creating age groups using their age in days, then finding out which of those animals had been adopted and dividing that by the total from each age group."
   ]
  },
  {
   "cell_type": "code",
   "execution_count": 109,
   "id": "c07ec713",
   "metadata": {},
   "outputs": [],
   "source": [
    "baby = in_outcomes[in_outcomes['age_upon_outcome_(days)'] < 122]\n",
    "young = in_outcomes[(in_outcomes['age_upon_outcome_(days)'] >= 122) & (in_outcomes['age_upon_outcome_(days)'] < 730)]\n",
    "adult = in_outcomes[(in_outcomes['age_upon_outcome_(days)'] >= 730) & (in_outcomes['age_upon_outcome_(days)'] < 3652)]\n",
    "senior = in_outcomes[in_outcomes['age_upon_outcome_(days)'] >= 3652]"
   ]
  },
  {
   "cell_type": "code",
   "execution_count": 110,
   "id": "3d7488a3",
   "metadata": {},
   "outputs": [],
   "source": [
    "baby_adopt = baby[baby['outcome_type'] == 'Adoption']\n",
    "young_adopt = young[young['outcome_type'] == 'Adoption']\n",
    "adult_adopt = adult[adult['outcome_type'] == 'Adoption']\n",
    "senior_adopt = senior[senior['outcome_type'] == 'Adoption']"
   ]
  },
  {
   "cell_type": "code",
   "execution_count": 111,
   "id": "544ad766",
   "metadata": {},
   "outputs": [],
   "source": [
    "baby_percent = len(baby_adopt)/len(baby)\n",
    "young_percent = len(young_adopt)/len(young)\n",
    "adult_percent = len(adult_adopt)/len(adult)\n",
    "senior_percent = len(senior_adopt)/len(senior)"
   ]
  },
  {
   "cell_type": "code",
   "execution_count": 112,
   "id": "1281f237",
   "metadata": {},
   "outputs": [
    {
     "name": "stdout",
     "output_type": "stream",
     "text": [
      "0.5117393776911203\n",
      "0.44249956992946843\n",
      "0.34584513692162416\n",
      "0.2102325581395349\n",
      "0.37566137566137564\n"
     ]
    }
   ],
   "source": [
    "print(baby_percent)\n",
    "print(young_percent)\n",
    "print(adult_percent)\n",
    "print(senior_percent)\n",
    "print(white_percent)"
   ]
  },
  {
   "cell_type": "markdown",
   "id": "7ef91e2a",
   "metadata": {},
   "source": [
    "## 3. If spay/neuter for a dog costs 100 and a spay/neuter for a cat costs 50, how much did the shelter spend in 2015 on these procedures?\n",
    "\n",
    "They spent $563,900 in 2015. This was found using the previous spray neuter variable and sorting by intake year 2015. Then those values were multiplied by the cost and then added together for the total."
   ]
  },
  {
   "cell_type": "code",
   "execution_count": 100,
   "id": "a10b8c32",
   "metadata": {},
   "outputs": [
    {
     "name": "stdout",
     "output_type": "stream",
     "text": [
      "563900\n"
     ]
    }
   ],
   "source": [
    "dog_spne = sp_ne[(sp_ne['animal_type'] == 'Dog') & (sp_ne['intake_year'] == 2015)]\n",
    "cat_spne = sp_ne[(sp_ne['animal_type'] == 'Cat') & (sp_ne['intake_year'] == 2015)]\n",
    "\n",
    "dog_cost = len(dog_spne) * 100\n",
    "cat_cost = len(cat_spne) * 50\n",
    "total = dog_cost + cat_cost\n",
    "print(total)"
   ]
  }
 ],
 "metadata": {
  "kernelspec": {
   "display_name": "Python 3 (ipykernel)",
   "language": "python",
   "name": "python3"
  },
  "language_info": {
   "codemirror_mode": {
    "name": "ipython",
    "version": 3
   },
   "file_extension": ".py",
   "mimetype": "text/x-python",
   "name": "python",
   "nbconvert_exporter": "python",
   "pygments_lexer": "ipython3",
   "version": "3.9.12"
  }
 },
 "nbformat": 4,
 "nbformat_minor": 5
}
